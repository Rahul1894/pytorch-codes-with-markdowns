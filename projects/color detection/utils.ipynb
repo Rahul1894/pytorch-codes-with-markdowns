{
 "cells": [
  {
   "cell_type": "code",
   "execution_count": 2,
   "metadata": {},
   "outputs": [],
   "source": [
    "import cv2\n",
    "import numpy as np "
   ]
  },
  {
   "cell_type": "code",
   "execution_count": 3,
   "metadata": {},
   "outputs": [],
   "source": [
    "def get_limits(color):\n",
    "    c=np.uint8([[color]]) # Convert color to a 1x1 pixel NumPy array of type uint8\n",
    "    hsvc=cv2.cvtColor(c,cv2.COLOR_BGR2HSV)\n",
    "\n",
    "    lower_limit=hsvc[0][0][0]-10,100,100\n",
    "    upper_limit=hsvc[0][0][0]+10,255,255\n",
    "\n",
    "    lower_limit=np.array(lower_limit,dtype=np.uint8)\n",
    "    upper_limit=np.array(upper_limit,dtype=np.uint8)\n",
    "    return lower_limit,upper_limit"
   ]
  },
  {
   "cell_type": "markdown",
   "metadata": {},
   "source": [
    "c = np.uint8([[color]]):\n",
    "\n",
    "Converts the input color tuple to a NumPy array of shape (1,1,3) with data type uint8. This array format is required for certain operations in OpenCV."
   ]
  },
  {
   "cell_type": "markdown",
   "metadata": {},
   "source": [
    "HSV color space is often used in computer vision for easier color detection and segmentation."
   ]
  },
  {
   "cell_type": "markdown",
   "metadata": {},
   "source": [
    "lower_limit = hsvc[0][0][0] - 10, 100, 100:\n",
    "\n",
    "Defines the lower limit of the HSV color range. HSV color space consists of:\n",
    "\n",
    "Hue: Represents the color itself.\n",
    "\n",
    "Saturation: Represents the purity of the color (depth of the color).\n",
    "\n",
    "Value: Represents the brightness of the color.\n",
    "\n",
    "The lower limit for Hue (H) is set to hsvc[0][0][0] - 10 (Hue value of the converted color minus 10).\n",
    "\n",
    "Saturation (S) and Value (V) are set to 100 and 100, respectively. These values are typical starting points for saturation and value.\n",
    "\n",
    "upper_limit = hsvc[0][0][0] + 10, 255, 255:\n",
    "\n",
    "Defines the upper limit of the HSV color range:\n",
    "\n",
    "Hue (H) is set to hsvc[0][0][0] + 10 (Hue value of the converted color plus 10).\n",
    "\n",
    "Saturation (S) and Value (V) are set to 255 (maximum values for saturation and value).\n"
   ]
  }
 ],
 "metadata": {
  "kernelspec": {
   "display_name": "myenv",
   "language": "python",
   "name": "python3"
  },
  "language_info": {
   "codemirror_mode": {
    "name": "ipython",
    "version": 3
   },
   "file_extension": ".py",
   "mimetype": "text/x-python",
   "name": "python",
   "nbconvert_exporter": "python",
   "pygments_lexer": "ipython3",
   "version": "3.11.7"
  }
 },
 "nbformat": 4,
 "nbformat_minor": 2
}
